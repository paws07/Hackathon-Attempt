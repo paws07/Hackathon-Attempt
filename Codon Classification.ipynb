{
 "cells": [
  {
   "cell_type": "code",
   "execution_count": null,
   "id": "05b9fc74",
   "metadata": {
    "ExecuteTime": {
     "end_time": "2022-11-05T09:05:53.862395Z",
     "start_time": "2022-11-05T09:05:52.736397Z"
    }
   },
   "outputs": [],
   "source": [
    "import pandas as pd\n",
    "import seaborn as sns\n",
    "import matplotlib.pyplot as plt\n",
    "import numpy as np"
   ]
  },
  {
   "cell_type": "code",
   "execution_count": null,
   "id": "a054acff",
   "metadata": {
    "ExecuteTime": {
     "end_time": "2022-11-05T09:05:54.189125Z",
     "start_time": "2022-11-05T09:05:53.863498Z"
    }
   },
   "outputs": [],
   "source": [
    "test_data = pd.read_csv(r'.\\Data\\testing.csv')\n",
    "train_data = pd.read_csv(r'.\\Data\\training.csv')"
   ]
  },
  {
   "cell_type": "markdown",
   "id": "a42ad056",
   "metadata": {},
   "source": [
    "## Some EDA"
   ]
  },
  {
   "cell_type": "code",
   "execution_count": null,
   "id": "9c09ebba",
   "metadata": {
    "ExecuteTime": {
     "end_time": "2022-11-05T09:05:54.204573Z",
     "start_time": "2022-11-05T09:05:54.189927Z"
    },
    "scrolled": true
   },
   "outputs": [],
   "source": [
    "train_data.info()"
   ]
  },
  {
   "cell_type": "code",
   "execution_count": null,
   "id": "1b4994cb",
   "metadata": {
    "ExecuteTime": {
     "end_time": "2022-11-05T09:05:54.593467Z",
     "start_time": "2022-11-05T09:05:54.574253Z"
    }
   },
   "outputs": [],
   "source": [
    "# Columns with NA's\n",
    "train_data.isna().sum()[train_data.isna().sum() > 0]"
   ]
  },
  {
   "cell_type": "code",
   "execution_count": null,
   "id": "6e4eac63",
   "metadata": {
    "ExecuteTime": {
     "end_time": "2022-11-05T09:05:54.966207Z",
     "start_time": "2022-11-05T09:05:54.948876Z"
    }
   },
   "outputs": [],
   "source": [
    "print(f\"Id is Monotonic -> {train_data['id'].is_monotonic}\")\n",
    "print(f\"Id is Unique -> {train_data['id'].is_unique}\")"
   ]
  },
  {
   "cell_type": "code",
   "execution_count": null,
   "id": "9593915c",
   "metadata": {
    "ExecuteTime": {
     "end_time": "2022-11-05T09:05:55.340039Z",
     "start_time": "2022-11-05T09:05:55.330456Z"
    }
   },
   "outputs": [],
   "source": [
    "train_data['Kingdom'].value_counts()"
   ]
  },
  {
   "cell_type": "code",
   "execution_count": null,
   "id": "1998d6c8",
   "metadata": {
    "ExecuteTime": {
     "end_time": "2022-11-05T09:05:55.976521Z",
     "start_time": "2022-11-05T09:05:55.839446Z"
    }
   },
   "outputs": [],
   "source": [
    "sns.histplot(data=train_data,\n",
    "            x='Kingdom',\n",
    "            binwidth=1)"
   ]
  },
  {
   "cell_type": "code",
   "execution_count": null,
   "id": "fb6bf0e1",
   "metadata": {
    "ExecuteTime": {
     "end_time": "2022-11-05T09:05:56.148534Z",
     "start_time": "2022-11-05T09:05:56.137011Z"
    }
   },
   "outputs": [],
   "source": [
    "train_data['DNAtype'].value_counts()"
   ]
  },
  {
   "cell_type": "code",
   "execution_count": null,
   "id": "30351fad",
   "metadata": {
    "ExecuteTime": {
     "end_time": "2022-11-05T09:05:56.522308Z",
     "start_time": "2022-11-05T09:05:56.392971Z"
    }
   },
   "outputs": [],
   "source": [
    "sns.histplot(data=train_data,\n",
    "            x='DNAtype',\n",
    "            binwidth=1)"
   ]
  },
  {
   "cell_type": "code",
   "execution_count": null,
   "id": "9ecd054a",
   "metadata": {
    "ExecuteTime": {
     "end_time": "2022-11-05T09:05:56.725959Z",
     "start_time": "2022-11-05T09:05:56.707277Z"
    }
   },
   "outputs": [],
   "source": [
    "train_data.groupby(by=['Kingdom', 'DNAtype'])['id'].count()"
   ]
  },
  {
   "cell_type": "code",
   "execution_count": null,
   "id": "8362b1cc",
   "metadata": {
    "ExecuteTime": {
     "end_time": "2022-11-05T09:05:57.425419Z",
     "start_time": "2022-11-05T09:05:57.056054Z"
    }
   },
   "outputs": [],
   "source": [
    "sns.histplot(data=train_data,\n",
    "            x='Kingdom',\n",
    "            binwidth=1,\n",
    "            hue='DNAtype')"
   ]
  },
  {
   "cell_type": "code",
   "execution_count": null,
   "id": "bd7119e3",
   "metadata": {
    "ExecuteTime": {
     "end_time": "2022-11-05T09:05:57.642145Z",
     "start_time": "2022-11-05T09:05:57.615472Z"
    }
   },
   "outputs": [],
   "source": [
    "train_data[train_data['DNAtype'].isna()]"
   ]
  },
  {
   "cell_type": "code",
   "execution_count": null,
   "id": "ef88c425",
   "metadata": {
    "ExecuteTime": {
     "end_time": "2022-11-05T09:05:58.741604Z",
     "start_time": "2022-11-05T09:05:58.721529Z"
    }
   },
   "outputs": [],
   "source": [
    "train_data['SpeciesID'].value_counts()"
   ]
  },
  {
   "cell_type": "code",
   "execution_count": null,
   "id": "1fa9b57d",
   "metadata": {
    "ExecuteTime": {
     "end_time": "2022-11-05T09:05:59.178127Z",
     "start_time": "2022-11-05T09:05:59.160356Z"
    }
   },
   "outputs": [],
   "source": [
    "train_data['SpeciesID'].value_counts().value_counts()"
   ]
  },
  {
   "cell_type": "code",
   "execution_count": null,
   "id": "56e7b601",
   "metadata": {
    "ExecuteTime": {
     "end_time": "2022-11-05T09:06:00.074068Z",
     "start_time": "2022-11-05T09:06:00.055143Z"
    }
   },
   "outputs": [],
   "source": [
    "train_data[train_data['SpeciesID'] == 3702]"
   ]
  },
  {
   "cell_type": "code",
   "execution_count": null,
   "id": "4cdbc764",
   "metadata": {
    "ExecuteTime": {
     "end_time": "2022-11-05T09:06:00.975507Z",
     "start_time": "2022-11-05T09:06:00.566478Z"
    }
   },
   "outputs": [],
   "source": [
    "# Checking to see if species with the same speciesID have the same Kingdom\n",
    "train_data.groupby(by='SpeciesID').agg({'Kingdom': pd.Series.nunique}).value_counts()\n",
    "# Species with the same speciesID do indeed have the same kingdom"
   ]
  },
  {
   "cell_type": "code",
   "execution_count": null,
   "id": "04b730a1",
   "metadata": {
    "ExecuteTime": {
     "end_time": "2022-11-05T09:06:02.361133Z",
     "start_time": "2022-11-05T09:06:02.346246Z"
    }
   },
   "outputs": [],
   "source": [
    "train_data['Ncodons'].value_counts()"
   ]
  },
  {
   "cell_type": "code",
   "execution_count": null,
   "id": "bfc8e35b",
   "metadata": {
    "ExecuteTime": {
     "end_time": "2022-11-05T09:06:03.389888Z",
     "start_time": "2022-11-05T09:06:03.178300Z"
    }
   },
   "outputs": [],
   "source": [
    "train_data['Ncodons'].value_counts().value_counts().plot(kind='bar')"
   ]
  },
  {
   "cell_type": "code",
   "execution_count": null,
   "id": "43b17b9d",
   "metadata": {
    "ExecuteTime": {
     "end_time": "2022-11-05T09:06:03.979960Z",
     "start_time": "2022-11-05T09:06:03.954211Z"
    }
   },
   "outputs": [],
   "source": [
    "train_data[train_data['Ncodons'] == 1140].head()"
   ]
  },
  {
   "cell_type": "code",
   "execution_count": null,
   "id": "3dc56e78",
   "metadata": {
    "ExecuteTime": {
     "end_time": "2022-11-05T09:06:05.102331Z",
     "start_time": "2022-11-05T09:06:04.839786Z"
    }
   },
   "outputs": [],
   "source": [
    "train_data.groupby(by='Ncodons').agg({'Kingdom': pd.Series.nunique}).value_counts()\n",
    "# Species with the same Ncodons do not have the same kingdom"
   ]
  },
  {
   "cell_type": "code",
   "execution_count": null,
   "id": "524eebc0",
   "metadata": {
    "ExecuteTime": {
     "end_time": "2022-11-05T09:06:05.646923Z",
     "start_time": "2022-11-05T09:06:05.629998Z"
    }
   },
   "outputs": [],
   "source": [
    "def assert_float(x):\n",
    "    try:\n",
    "        x = float(x)\n",
    "        return True\n",
    "    except:\n",
    "        return False"
   ]
  },
  {
   "cell_type": "code",
   "execution_count": null,
   "id": "0728b4c1",
   "metadata": {
    "ExecuteTime": {
     "end_time": "2022-11-05T09:06:06.004236Z",
     "start_time": "2022-11-05T09:06:05.983944Z"
    }
   },
   "outputs": [],
   "source": [
    "train_data[~train_data['UUC'].apply(assert_float)]"
   ]
  },
  {
   "cell_type": "code",
   "execution_count": null,
   "id": "1666ddbc",
   "metadata": {
    "ExecuteTime": {
     "end_time": "2022-11-05T09:06:06.318443Z",
     "start_time": "2022-11-05T09:06:06.304148Z"
    }
   },
   "outputs": [],
   "source": [
    "train_data[~train_data['UUU'].apply(assert_float)]"
   ]
  },
  {
   "cell_type": "code",
   "execution_count": null,
   "id": "46cb6887",
   "metadata": {
    "ExecuteTime": {
     "end_time": "2022-11-05T09:06:06.738087Z",
     "start_time": "2022-11-05T09:06:06.723290Z"
    }
   },
   "outputs": [],
   "source": [
    "train_data['SpeciesName'].str.split(' ').apply(lambda x: x[0]).value_counts()\n",
    "#top_20_keywords = train_data['SpeciesName'].str.split(' ').explode().value_counts().head(20)"
   ]
  },
  {
   "cell_type": "markdown",
   "id": "0cbf4df6",
   "metadata": {},
   "source": [
    "## Drop NA's and non-floats for corr"
   ]
  },
  {
   "cell_type": "code",
   "execution_count": null,
   "id": "c1e7d528",
   "metadata": {
    "ExecuteTime": {
     "end_time": "2022-11-05T09:06:07.702957Z",
     "start_time": "2022-11-05T09:06:07.671414Z"
    }
   },
   "outputs": [],
   "source": [
    "train_corr = train_data[train_data['UUU'].apply(assert_float)].dropna().reset_index(drop=True)"
   ]
  },
  {
   "cell_type": "code",
   "execution_count": null,
   "id": "aab67654",
   "metadata": {
    "ExecuteTime": {
     "end_time": "2022-11-05T09:06:09.622208Z",
     "start_time": "2022-11-05T09:06:08.186276Z"
    }
   },
   "outputs": [],
   "source": [
    "sns.set(rc={'figure.figsize':(15,15)})\n",
    "sns.heatmap(train_corr.corr(), cmap=sns.diverging_palette(0, 255, sep=8, n=256))"
   ]
  },
  {
   "cell_type": "code",
   "execution_count": null,
   "id": "3552c158",
   "metadata": {
    "ExecuteTime": {
     "end_time": "2022-11-05T09:06:09.669148Z",
     "start_time": "2022-11-05T09:06:09.623252Z"
    }
   },
   "outputs": [],
   "source": [
    "# Sum up all the normalized codons\n",
    "train_corr.iloc[:,7:].sum(axis=0)"
   ]
  },
  {
   "cell_type": "markdown",
   "id": "592f726e",
   "metadata": {},
   "source": [
    "## Build Model"
   ]
  },
  {
   "cell_type": "code",
   "execution_count": null,
   "id": "ac60f7e4",
   "metadata": {
    "ExecuteTime": {
     "end_time": "2022-11-05T09:06:10.368753Z",
     "start_time": "2022-11-05T09:06:09.670912Z"
    }
   },
   "outputs": [],
   "source": [
    "from sklearn.model_selection import train_test_split, cross_val_score\n",
    "from sklearn.pipeline import Pipeline\n",
    "from sklearn.impute import SimpleImputer\n",
    "from sklearn.preprocessing import StandardScaler, OneHotEncoder, Normalizer\n",
    "from sklearn.ensemble import RandomForestClassifier, GradientBoostingClassifier\n",
    "from sklearn.metrics import accuracy_score, log_loss, f1_score\n",
    "from sklearn.model_selection import GridSearchCV, cross_val_score, StratifiedKFold, RandomizedSearchCV\n",
    "from sklearn.inspection import permutation_importance"
   ]
  },
  {
   "cell_type": "code",
   "execution_count": null,
   "id": "2878ce11",
   "metadata": {
    "ExecuteTime": {
     "end_time": "2022-11-05T09:06:14.886602Z",
     "start_time": "2022-11-05T09:06:14.875285Z"
    }
   },
   "outputs": [],
   "source": [
    "def get_text_words(dataframe, keywords):\n",
    "    df = dataframe.copy()\n",
    "    for word in keywords:\n",
    "        df[word] = df['SpeciesName'].str.contains(word, case=False).replace({True:1, False:0})\n",
    "    \n",
    "    return df    "
   ]
  },
  {
   "cell_type": "code",
   "execution_count": null,
   "id": "48796f04",
   "metadata": {
    "ExecuteTime": {
     "end_time": "2022-11-05T09:06:15.928502Z",
     "start_time": "2022-11-05T09:06:15.876840Z"
    }
   },
   "outputs": [],
   "source": [
    "training_data = get_text_words(train_corr, ['chloroplast', 'virus', 'human', 'bacteria'])"
   ]
  },
  {
   "cell_type": "code",
   "execution_count": null,
   "id": "82588c12",
   "metadata": {
    "ExecuteTime": {
     "end_time": "2022-11-05T09:21:16.267161Z",
     "start_time": "2022-11-05T09:21:16.246543Z"
    }
   },
   "outputs": [],
   "source": [
    "train_features = training_data.drop(columns=['id', 'SpeciesID', 'SpeciesName', 'Kingdom']).copy()\n",
    "train_labels = training_data['Kingdom'].copy()"
   ]
  },
  {
   "cell_type": "code",
   "execution_count": null,
   "id": "535372e9",
   "metadata": {
    "ExecuteTime": {
     "end_time": "2022-11-05T09:21:17.730348Z",
     "start_time": "2022-11-05T09:21:17.723083Z"
    }
   },
   "outputs": [],
   "source": [
    "print(train_features.shape, train_labels.shape)"
   ]
  },
  {
   "cell_type": "code",
   "execution_count": null,
   "id": "ead1b37f",
   "metadata": {
    "ExecuteTime": {
     "end_time": "2022-11-05T09:21:19.333520Z",
     "start_time": "2022-11-05T09:21:19.304637Z"
    }
   },
   "outputs": [],
   "source": [
    "X_train, X_test, y_train, y_test = train_test_split(train_features,\n",
    "                                                    train_labels,\n",
    "                                                    stratify=train_labels,\n",
    "                                                    random_state=42)"
   ]
  },
  {
   "cell_type": "code",
   "execution_count": null,
   "id": "3c2a3d1b",
   "metadata": {
    "ExecuteTime": {
     "end_time": "2022-11-05T09:21:19.784163Z",
     "start_time": "2022-11-05T09:21:19.780156Z"
    }
   },
   "outputs": [],
   "source": [
    "rnd_clf = RandomForestClassifier(random_state=42)"
   ]
  },
  {
   "cell_type": "code",
   "execution_count": null,
   "id": "a4a97b2b",
   "metadata": {
    "ExecuteTime": {
     "end_time": "2022-11-05T09:21:23.494338Z",
     "start_time": "2022-11-05T09:21:20.368635Z"
    }
   },
   "outputs": [],
   "source": [
    "rnd_clf.fit(X_train, y_train)"
   ]
  },
  {
   "cell_type": "code",
   "execution_count": null,
   "id": "d67e6a0f",
   "metadata": {
    "ExecuteTime": {
     "end_time": "2022-11-05T09:21:29.260080Z",
     "start_time": "2022-11-05T09:21:23.497154Z"
    }
   },
   "outputs": [],
   "source": [
    "scores = cross_val_score(rnd_clf, \n",
    "                         X_train, \n",
    "                         y_train,\n",
    "                         scoring=\"accuracy\", \n",
    "                         cv=5,\n",
    "                         n_jobs = -1)\n",
    "\n",
    "print(scores, f'Mean: {np.mean(scores)}', f'Standard Deviation: {np.std(scores)}')"
   ]
  },
  {
   "cell_type": "code",
   "execution_count": null,
   "id": "87676057",
   "metadata": {
    "ExecuteTime": {
     "end_time": "2022-11-05T09:06:35.938678Z",
     "start_time": "2022-11-05T09:06:35.872626Z"
    }
   },
   "outputs": [],
   "source": [
    "accuracy_score(rnd_clf.predict(X_test), y_test)"
   ]
  },
  {
   "cell_type": "code",
   "execution_count": null,
   "id": "b85bde9d",
   "metadata": {
    "ExecuteTime": {
     "end_time": "2022-11-05T09:06:40.909775Z",
     "start_time": "2022-11-05T09:06:40.777861Z"
    }
   },
   "outputs": [],
   "source": [
    "f1_score(rnd_clf.predict(X_test), y_test, average='micro'), f1_score(rnd_clf.predict(X_test), y_test, average='macro')"
   ]
  },
  {
   "cell_type": "markdown",
   "id": "75de213b",
   "metadata": {
    "heading_collapsed": true
   },
   "source": [
    "## Feature Importance"
   ]
  },
  {
   "cell_type": "code",
   "execution_count": null,
   "id": "315af9a8",
   "metadata": {
    "ExecuteTime": {
     "end_time": "2022-11-05T09:06:46.352670Z",
     "start_time": "2022-11-05T09:06:44.401777Z"
    },
    "hidden": true
   },
   "outputs": [],
   "source": [
    "# Taking a look at the most important features\n",
    "std = np.std([tree.feature_importances_ for tree in rnd_clf.estimators_], axis=0)\n",
    "pd.Series(rnd_clf.feature_importances_, index=X_train.columns).plot.bar(yerr=std)"
   ]
  },
  {
   "cell_type": "code",
   "execution_count": null,
   "id": "8edc5890",
   "metadata": {
    "ExecuteTime": {
     "end_time": "2022-11-05T09:07:18.437769Z",
     "start_time": "2022-11-05T09:06:46.354924Z"
    },
    "hidden": true
   },
   "outputs": [],
   "source": [
    "result = permutation_importance(\n",
    "            rnd_clf, \n",
    "            X_train,\n",
    "            y_train,\n",
    "            n_repeats=10, \n",
    "            random_state=42, \n",
    "            n_jobs=-1\n",
    ")"
   ]
  },
  {
   "cell_type": "code",
   "execution_count": null,
   "id": "a8a8b7f4",
   "metadata": {
    "ExecuteTime": {
     "end_time": "2022-11-05T09:07:20.506440Z",
     "start_time": "2022-11-05T09:07:18.439592Z"
    },
    "hidden": true
   },
   "outputs": [],
   "source": [
    "pd.Series(result.importances_mean, index=X_train.columns).plot.bar(yerr=result.importances_std)"
   ]
  },
  {
   "cell_type": "markdown",
   "id": "6e90ecf9",
   "metadata": {},
   "source": [
    "## Tune Model"
   ]
  },
  {
   "cell_type": "code",
   "execution_count": null,
   "id": "bcf6558f",
   "metadata": {
    "ExecuteTime": {
     "end_time": "2022-11-05T09:07:20.522138Z",
     "start_time": "2022-11-05T09:07:20.508253Z"
    }
   },
   "outputs": [],
   "source": [
    "rnd_clf.get_params()"
   ]
  },
  {
   "cell_type": "code",
   "execution_count": null,
   "id": "6d83d395",
   "metadata": {
    "ExecuteTime": {
     "end_time": "2022-11-05T07:33:27.957429Z",
     "start_time": "2022-11-05T07:31:43.676400Z"
    }
   },
   "outputs": [],
   "source": [
    "param_grid = [{'n_estimators': np.linspace(100, 1000, 5, dtype=int),\n",
    "               'max_depth': np.linspace(100, 1000, 5, dtype=int),\n",
    "               'max_leaf_nodes': np.linspace(20, 50, 5, dtype=int),\n",
    "               'min_samples_leaf': np.linspace(2, 5, 3, dtype=int),\n",
    "               'min_samples_split': np.linspace(4, 12, 3, dtype=int),\n",
    "            }]\n",
    "\n",
    "rnd_clf = RandomForestClassifier(random_state=42)\n",
    "\n",
    "random_search = RandomizedSearchCV(rnd_clf,\n",
    "                                   param_grid, \n",
    "                                   cv=3,\n",
    "                                   scoring='accuracy',\n",
    "                                   n_jobs = -1,\n",
    "                                   return_train_score=True)\n",
    "\n",
    "random_search.fit(X_train, y_train)\n",
    "random_search.best_params_"
   ]
  },
  {
   "cell_type": "code",
   "execution_count": null,
   "id": "253be2a6",
   "metadata": {
    "ExecuteTime": {
     "end_time": "2022-11-05T07:35:16.830726Z",
     "start_time": "2022-11-05T07:35:16.821778Z"
    }
   },
   "outputs": [],
   "source": [
    "cvres = random_search.cv_results_\n",
    "for mean_score, params in zip(cvres[\"mean_test_score\"], cvres[\"params\"]):\n",
    "    print(np.sum(mean_score), params)"
   ]
  },
  {
   "cell_type": "code",
   "execution_count": null,
   "id": "2b7c920e",
   "metadata": {
    "ExecuteTime": {
     "end_time": "2022-11-05T09:12:08.972356Z",
     "start_time": "2022-11-05T09:11:30.684711Z"
    }
   },
   "outputs": [],
   "source": [
    "param_grid = [{'n_estimators': np.linspace(200, 500, 3, dtype=int),\n",
    "               'min_samples_leaf': np.linspace(1, 3, 2, dtype=int),\n",
    "               'min_samples_split': np.linspace(2, 6, 2, dtype=int),\n",
    "            }]\n",
    "\n",
    "rnd_clf = RandomForestClassifier(random_state=42)\n",
    "\n",
    "grid_search = GridSearchCV(rnd_clf,\n",
    "                           param_grid, \n",
    "                           cv=3,\n",
    "                           scoring='accuracy',\n",
    "                           n_jobs = -1,\n",
    "                           return_train_score=True)\n",
    "\n",
    "grid_search.fit(X_train, y_train)\n",
    "grid_search.best_estimator_"
   ]
  },
  {
   "cell_type": "code",
   "execution_count": null,
   "id": "4f90557d",
   "metadata": {
    "ExecuteTime": {
     "end_time": "2022-11-05T09:12:08.987499Z",
     "start_time": "2022-11-05T09:12:08.974284Z"
    }
   },
   "outputs": [],
   "source": [
    "cvres = grid_search.cv_results_\n",
    "for mean_score, params in zip(cvres[\"mean_test_score\"], cvres[\"params\"]):\n",
    "    print(np.max(mean_score), params)"
   ]
  },
  {
   "cell_type": "code",
   "execution_count": null,
   "id": "6f667058",
   "metadata": {
    "ExecuteTime": {
     "end_time": "2022-11-05T09:12:25.022986Z",
     "start_time": "2022-11-05T09:12:08.989539Z"
    }
   },
   "outputs": [],
   "source": [
    "model_of_choice = grid_search.best_estimator_\n",
    "model_of_choice.fit(X_train, y_train)"
   ]
  },
  {
   "cell_type": "code",
   "execution_count": null,
   "id": "7ea0a2a4",
   "metadata": {
    "ExecuteTime": {
     "end_time": "2022-11-05T09:12:46.646857Z",
     "start_time": "2022-11-05T09:12:25.025026Z"
    }
   },
   "outputs": [],
   "source": [
    "scores = cross_val_score(model_of_choice, \n",
    "                         X_train, \n",
    "                         y_train,\n",
    "                         scoring=\"accuracy\", \n",
    "                         cv=5,\n",
    "                         n_jobs = -1)\n",
    "\n",
    "print(scores, f'Mean: {np.mean(scores)}', f'Standard Deviation: {np.std(scores)}')"
   ]
  },
  {
   "cell_type": "markdown",
   "id": "22c69d56",
   "metadata": {},
   "source": [
    "## Gradient Boost Attempt"
   ]
  },
  {
   "cell_type": "code",
   "execution_count": null,
   "id": "0f48ae01",
   "metadata": {
    "ExecuteTime": {
     "end_time": "2022-11-05T09:12:54.095483Z",
     "start_time": "2022-11-05T09:12:54.080419Z"
    }
   },
   "outputs": [],
   "source": [
    "gbt_clf = GradientBoostingClassifier(random_state=42)"
   ]
  },
  {
   "cell_type": "code",
   "execution_count": null,
   "id": "73557a64",
   "metadata": {
    "ExecuteTime": {
     "end_time": "2022-11-05T09:14:52.516800Z",
     "start_time": "2022-11-05T09:12:59.153777Z"
    }
   },
   "outputs": [],
   "source": [
    "gbt_clf.fit(X_train, y_train)"
   ]
  },
  {
   "cell_type": "code",
   "execution_count": null,
   "id": "871efa46",
   "metadata": {
    "ExecuteTime": {
     "end_time": "2022-11-05T09:16:38.165909Z",
     "start_time": "2022-11-05T09:14:52.519057Z"
    }
   },
   "outputs": [],
   "source": [
    "scores = cross_val_score(gbt_clf, \n",
    "                         X_train, \n",
    "                         y_train,\n",
    "                         scoring=\"accuracy\", \n",
    "                         cv=3,\n",
    "                         n_jobs = -1)\n",
    "\n",
    "print(scores, f'Mean: {np.mean(scores)}', f'Standard Deviation: {np.std(scores)}')"
   ]
  },
  {
   "cell_type": "code",
   "execution_count": null,
   "id": "f9edd179",
   "metadata": {
    "ExecuteTime": {
     "start_time": "2022-11-05T08:30:56.942Z"
    }
   },
   "outputs": [],
   "source": [
    "param_grid = [{'learning_rate': np.linspace(0.01, 1, 2),\n",
    "                'n_estimators': np.linspace(100, 1000, 3, dtype=int),\n",
    "            }]\n",
    "\n",
    "gbt_clf = GradientBoostingClassifier(random_state=42)\n",
    "\n",
    "grid_search = GridSearchCV(gbt_clf,\n",
    "                           param_grid, \n",
    "                           cv=3,\n",
    "                           scoring='accuracy',\n",
    "                           n_jobs = -1,\n",
    "                           return_train_score=True)\n",
    "\n",
    "grid_search.fit(X_train, y_train)\n",
    "grid_search.best_estimator_"
   ]
  },
  {
   "cell_type": "code",
   "execution_count": null,
   "id": "c0d70dda",
   "metadata": {
    "ExecuteTime": {
     "start_time": "2022-11-05T08:30:59.859Z"
    }
   },
   "outputs": [],
   "source": [
    "cvres = grid_search.cv_results_\n",
    "for mean_score, params in zip(cvres[\"mean_test_score\"], cvres[\"params\"]):\n",
    "    print(np.max(mean_score), params)"
   ]
  },
  {
   "cell_type": "code",
   "execution_count": null,
   "id": "6f667058",
   "metadata": {
    "ExecuteTime": {
     "end_time": "2022-11-05T08:05:20.562665Z",
     "start_time": "2022-11-05T08:04:48.816823Z"
    }
   },
   "outputs": [],
   "source": [
    "model_of_choice = grid_search.best_estimator_\n",
    "model_of_choice.fit(X_train, y_train)"
   ]
  },
  {
   "cell_type": "code",
   "execution_count": null,
   "id": "7ea0a2a4",
   "metadata": {
    "ExecuteTime": {
     "end_time": "2022-11-05T08:04:43.460279Z",
     "start_time": "2022-11-05T08:04:28.330Z"
    }
   },
   "outputs": [],
   "source": [
    "scores = cross_val_score(model_of_choice, \n",
    "                         X_train, \n",
    "                         y_train,\n",
    "                         scoring=\"accuracy\", \n",
    "                         cv=5,\n",
    "                         n_jobs = -1)\n",
    "\n",
    "print(scores, f'Mean: {np.mean(scores)}', f'Standard Deviation: {np.std(scores)}')"
   ]
  },
  {
   "cell_type": "markdown",
   "id": "1d7ca81b",
   "metadata": {},
   "source": [
    "## Submission"
   ]
  },
  {
   "cell_type": "code",
   "execution_count": null,
   "id": "33068d2a",
   "metadata": {
    "ExecuteTime": {
     "end_time": "2022-11-05T09:16:56.168998Z",
     "start_time": "2022-11-05T09:16:56.148336Z"
    }
   },
   "outputs": [],
   "source": [
    "testing_data = get_text_words(test_data, ['chloroplast', 'virus', 'human', 'bacteria'])"
   ]
  },
  {
   "cell_type": "code",
   "execution_count": null,
   "id": "30284d10",
   "metadata": {
    "ExecuteTime": {
     "end_time": "2022-11-05T09:16:58.358878Z",
     "start_time": "2022-11-05T09:16:58.098748Z"
    }
   },
   "outputs": [],
   "source": [
    "test_data['Kingdom'] = model_of_choice.predict(testing_data.drop(columns=['id', 'SpeciesID', 'SpeciesName']))"
   ]
  },
  {
   "cell_type": "code",
   "execution_count": null,
   "id": "e5d7484c",
   "metadata": {
    "ExecuteTime": {
     "end_time": "2022-11-05T09:16:59.028055Z",
     "start_time": "2022-11-05T09:16:59.015770Z"
    }
   },
   "outputs": [],
   "source": [
    "train_id_kingdom = train_data[['SpeciesID', 'Kingdom']].drop_duplicates()"
   ]
  },
  {
   "cell_type": "code",
   "execution_count": null,
   "id": "efc4c0db",
   "metadata": {
    "ExecuteTime": {
     "end_time": "2022-11-05T09:17:00.229799Z",
     "start_time": "2022-11-05T09:17:00.211824Z"
    }
   },
   "outputs": [],
   "source": [
    "final_pred = test_data.merge(train_id_kingdom, left_on='SpeciesID', right_on='SpeciesID', how='left')"
   ]
  },
  {
   "cell_type": "code",
   "execution_count": null,
   "id": "ceef9361",
   "metadata": {
    "ExecuteTime": {
     "end_time": "2022-11-05T09:17:00.492229Z",
     "start_time": "2022-11-05T09:17:00.486762Z"
    }
   },
   "outputs": [],
   "source": [
    "final_pred['Kingdom'] = final_pred.Kingdom_y.combine_first(final_pred.Kingdom_x)"
   ]
  },
  {
   "cell_type": "code",
   "execution_count": null,
   "id": "e49a8680",
   "metadata": {
    "ExecuteTime": {
     "end_time": "2022-11-05T09:17:00.864734Z",
     "start_time": "2022-11-05T09:17:00.842317Z"
    }
   },
   "outputs": [],
   "source": [
    "final_pred[['id', 'Kingdom']].to_csv('Predictions.csv', index=False)"
   ]
  },
  {
   "cell_type": "code",
   "execution_count": null,
   "id": "8509b009",
   "metadata": {
    "ExecuteTime": {
     "end_time": "2022-11-05T09:18:46.424920Z",
     "start_time": "2022-11-05T09:18:46.406919Z"
    }
   },
   "outputs": [],
   "source": [
    "train_id_kingdom[train_id_kingdom['SpeciesID'] == 5888]"
   ]
  },
  {
   "cell_type": "code",
   "execution_count": null,
   "id": "e5c71ce3",
   "metadata": {
    "ExecuteTime": {
     "end_time": "2022-11-05T09:18:07.846649Z",
     "start_time": "2022-11-05T09:18:07.805571Z"
    }
   },
   "outputs": [],
   "source": [
    "final_pred[(final_pred['Kingdom_x'] != final_pred['Kingdom_y']) &\n",
    "          ~final_pred['Kingdom_y'].isna()]"
   ]
  }
 ],
 "metadata": {
  "hide_input": false,
  "kernelspec": {
   "display_name": "Python 3",
   "language": "python",
   "name": "python3"
  },
  "language_info": {
   "codemirror_mode": {
    "name": "ipython",
    "version": 3
   },
   "file_extension": ".py",
   "mimetype": "text/x-python",
   "name": "python",
   "nbconvert_exporter": "python",
   "pygments_lexer": "ipython3",
   "version": "3.8.8"
  }
 },
 "nbformat": 4,
 "nbformat_minor": 5
}
